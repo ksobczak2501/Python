{
 "cells": [
  {
   "cell_type": "markdown",
   "metadata": {},
   "source": [
    "### Klasy w pythonie\n",
    "Kolejny, po przekazywaniu przez referencję temat, który moim zdanie jest bardzo istotny. Praktycznie wszystko w Pythonie jest klasą, więc warto znać jej właściwości. Klasa definiuję strukturę, według której będziemy mogli tworzyć nowe obiekty. Klasa sama w sobie tak naprawdę nic nie robi."
   ]
  },
  {
   "cell_type": "markdown",
   "metadata": {},
   "source": [
    "Poniżej zamieszczony jest przykład klasy `Robak`."
   ]
  },
  {
   "cell_type": "code",
   "execution_count": 4,
   "metadata": {},
   "outputs": [
    {
     "name": "stdout",
     "output_type": "stream",
     "text": [
      "Wiju, wiju.\n"
     ]
    }
   ],
   "source": [
    "class Robak:\n",
    "    brzydki = True\n",
    "    \n",
    "    def zrob_cos():\n",
    "        print(\"Wiju, wiju.\")\n",
    "        \n",
    "prusak = Robak()\n",
    "\n",
    "Robak.zrob_cos()  # wywołujemy metodę na klasie, coś jak numpy.mean()\n",
    "\n",
    "# poniższe przykłady wyrzucą błąd\n",
    "# Robak().zrob_cos()  # tworzymy instancję Robaka, ale jej nie nazywamy, po kropce chcemy wywyołać na nim metodę, \n",
    "                      # coś jak X.mean(), gdzie X to jakiaś array\n",
    "# prusak.zrob_cos()  # utworzyliśmy robaka i chcemy wywyołać na nim metodę\n",
    "    "
   ]
  },
  {
   "cell_type": "markdown",
   "metadata": {},
   "source": [
    "Przy uruchomieniu odkomentowanego kodu pojawia się zaskakujący błąd `zrob_cos() takes 0 positional arguments but 1 was given`. Dzieję się tak ponieważ robak wszedł do swojej metody. W zasadzie każda klasa tak robi. Po utworzeniu obiektu (np. prusaka) i użyciu kropki on przekazuje sam siebie jako pierwszy argument, żeby było wiadomo, jakiego konkretnie obiektu to dotyczy. Poniżej kilka przykładów, które mam nadzieję rozjaśnią to."
   ]
  },
  {
   "cell_type": "code",
   "execution_count": 9,
   "metadata": {},
   "outputs": [
    {
     "name": "stdout",
     "output_type": "stream",
     "text": [
      "Wiju, wiju.\n",
      "Wiju, wiju.\n"
     ]
    }
   ],
   "source": [
    "class Robak:\n",
    "    brzydki = True\n",
    "    \n",
    "    def zrob_cos(self):\n",
    "        print(\"Wiju, wiju.\")\n",
    "\n",
    "prusak = Robak()\n",
    "\n",
    "# Robak.zrob_cos()  # wywołujemy metodę na klasie\n",
    "\n",
    "# poniższe przykłady wyrzucą błąd\n",
    "Robak().zrob_cos()  # tworzymy instancję Robaka, ale jej nie nazywamy, po kropce chcemy wywyołać na nim metodę\n",
    "prusak.zrob_cos()  # utworzyliśmy robaka i chcemy wywyołać na nim metodę"
   ]
  },
  {
   "cell_type": "code",
   "execution_count": 16,
   "metadata": {},
   "outputs": [
    {
     "name": "stdout",
     "output_type": "stream",
     "text": [
      "Wiju, wiju.\n",
      "Miziu.\n"
     ]
    }
   ],
   "source": [
    "class Robak:\n",
    "    brzydki = True\n",
    "    \n",
    "    def zrob_cos(self):\n",
    "        if self.brzydki:\n",
    "            print(\"Wiju, wiju.\")\n",
    "        elif not self.brzydki:\n",
    "            print(\"Miziu.\")\n",
    "        else:\n",
    "            print(\"Ten else jest bez sensu, poprzedni elif tylko w celach edukacyjnych.\")\n",
    "\n",
    "prusak = Robak()\n",
    "prusak.zrob_cos()\n",
    "\n",
    "# nie wszystkie robaki są brzydkie!\n",
    "motyl = Robak()\n",
    "motyl.brzydki = False\n",
    "motyl.zrob_cos()"
   ]
  },
  {
   "cell_type": "markdown",
   "metadata": {},
   "source": [
    "`Self` jest nazwą zwyczajową, równie dobrze można używać słówka `ja`, ale nikt tak nie robi. `Self` odnosi się do konkretnej instancji klasy. To znaczy, że po przekazaniu się robaka do funkcji `zrob_cos` on się pyta samego siebie, czy jest brzydki i wypisuje na wyjściu odpowiedni komentarz. Dopóki nie mamy czegoś konkretnego, to nie może się ono zapytać samego siebie."
   ]
  },
  {
   "cell_type": "markdown",
   "metadata": {},
   "source": [
    "Możemy chcieć już na dzień dobry, przy tworzeniu obiektu określać czy jest brzydki czy nie oraz nadać mu imię. W tym celu musimy użyć pewnego skomplikowanego mechanizmu, który przyjmie nam te argumenty i odpowiednio je potraktuje."
   ]
  },
  {
   "cell_type": "code",
   "execution_count": 17,
   "metadata": {},
   "outputs": [
    {
     "name": "stdout",
     "output_type": "stream",
     "text": [
      "Cześć, jestem: Rudolf, i jestem True\n",
      "Wiju, wiju.\n",
      "Cześć, jestem: Emilka, i jestem False\n",
      "Miziu.\n"
     ]
    }
   ],
   "source": [
    "class Robak:\n",
    " \n",
    "    def __init__(self, jest_brzydki, imie):\n",
    "        self.is_gross = jest_brzydki\n",
    "        self.name = imie\n",
    "    \n",
    "    def zrob_cos(self):\n",
    "        if self.is_gross:\n",
    "            print(\"Wiju, wiju.\")\n",
    "        else:\n",
    "            print(\"Miziu.\")\n",
    "\n",
    "prusak = Robak(True, 'Rudolf')\n",
    "print('Cześć, jestem:', prusak.name + ',', 'i jestem', prusak.is_gross)\n",
    "prusak.zrob_cos()\n",
    "\n",
    "motyl = Robak(False, 'Emilka')\n",
    "print('Cześć, jestem:', motyl.name + ',', 'i jestem', motyl.is_gross)\n",
    "motyl.zrob_cos()"
   ]
  },
  {
   "cell_type": "markdown",
   "metadata": {},
   "source": [
    "#### Luźne uwagi\n",
    "- `self` oznacza, że mamy coś konkretnego na myśli np. Rudolfa, a nie jakaś ogólną definicję klasy. Wcześniej w definicji klasy nie pisaliśmy `self` przy `brzydki`, co oznacza, że każdy robak którego utworzyliśmy taki będzie. Po dodaniu `self` to jest bardziej indywidualna cecha.\n",
    "\n",
    "- `init` to taka specjalna funkcja, można to interpretować w ten sposób:\n",
    "```\n",
    "class Robak:\n",
    "    def __init__(self, jest_brzydki, imie):\n",
    "```  \n",
    "to coś jak:\n",
    "```\n",
    "class Robak(self, jest_brzydki, imie):\n",
    "```\n",
    "ale robi się to w ten pierwszy sposób.\n",
    "\n",
    "- są innego tego typu śmieszne funkcje, np: `def __str__(self):`. Ona wskazuje w jaki sposób ma być wyświelony obiekt klasy np w funkcji print. Gdy wywołamy funkcję `print(prusak)`, python najpierw zrobi `str(pruska)` używając naszej funkcji `__str__` dostanie **string** i go wyświetli. Jeżeli nie napiszemy takiej funkcji python dostarczy swoją lamerską. Przykład poniżej:"
   ]
  },
  {
   "cell_type": "code",
   "execution_count": 28,
   "metadata": {},
   "outputs": [
    {
     "name": "stdout",
     "output_type": "stream",
     "text": [
      "<__main__.Robak object at 0x0000020DBA288EF0>\n",
      "Cześć, jestem: Rudolf, i jestem True\n"
     ]
    }
   ],
   "source": [
    "class Robak:\n",
    "\n",
    "    def __init__(self, jest_brzydki, imie):\n",
    "        self.is_gross = jest_brzydki\n",
    "        self.name = imie\n",
    "    \n",
    "    def zrob_cos(self):\n",
    "        if self.is_gross:\n",
    "            print(\"Wiju, wiju.\")\n",
    "        else:\n",
    "            print(\"Miziu.\")\n",
    "\n",
    "motyl = Robak(False, 'Emilka')\n",
    "print(motyl)\n",
    "\n",
    "# z funkcją __str__\n",
    "class Robak:\n",
    "\n",
    "    def __init__(self, jest_brzydki, imie):\n",
    "        self.is_gross = jest_brzydki\n",
    "        self.name = imie\n",
    "        \n",
    "    def __str__(self):\n",
    "        return 'Cześć, jestem: ' + self.name + ', i jestem ' + str(self.is_gross)  # zwracamy string!!!\n",
    "    \n",
    "    def zrob_cos(self):\n",
    "        if self.is_gross:\n",
    "            print(\"Wiju, wiju.\")\n",
    "        else:\n",
    "            print(\"Miziu.\")\n",
    "\n",
    "prusak = Robak(True, 'Rudolf')\n",
    "print(prusak)"
   ]
  },
  {
   "cell_type": "markdown",
   "metadata": {},
   "source": [
    "### Zadanie"
   ]
  },
  {
   "cell_type": "markdown",
   "metadata": {},
   "source": [
    "Zadanie polega na napisaniu klasy, która będzie reprezentowała członka naszej grupy naukowej. Będzie ona przechowywała jego pseudonim, czy zapłacił składkę kołową, ile zrobił zadań. Ponadto będzię zawierała funkcję (metodę), która będzie zwiększała liczbę zrobionych zadań. Każdy utworzony członek gupy (_instance of the class_) będzie zawierał także nazwę koła do którego należy jako zmienną, którą każdy członek grupy standardowo posiada.\n",
    "\n",
    "Zadanie opcjonalne to wyświtlanie danego czlonka w ładny sposób wraz z liczbą zrobionych zadań."
   ]
  },
  {
   "cell_type": "code",
   "execution_count": null,
   "metadata": {},
   "outputs": [],
   "source": [
    "# przykladowo, powinno istnieć w waszym kodzie miejsce w którym poniższe linie powinny się wykonać \n",
    "# (z dokładnością do nazw zmiennych, funkcji itp)\n",
    "\n",
    "czlonek1 = DrMember(\"rita repulsa\", zaplacil=False, n_zadan=float('inf'))\n",
    "print(czlonek1)\n",
    "# rita repulsa\n",
    "# składka: nie\n",
    "# zrobiła zadań: inf\n",
    "\n",
    "czlonek2 = DrMember(\"ranger\", zaplacil=True, n_zadan=2)\n",
    "print(czlonek2)\n",
    "# ranger\n",
    "# składka: tak\n",
    "# zrobiła zadań: 2\n",
    "czlonek2.solved_problem()\n",
    "print(czlonek2)\n",
    "# ranger\n",
    "# składka: tak\n",
    "# zrobiła zadań: 3"
   ]
  },
  {
   "cell_type": "code",
   "execution_count": 61,
   "metadata": {},
   "outputs": [
    {
     "name": "stdout",
     "output_type": "stream",
     "text": [
      "zapłacił: nie\n",
      "Członek: rita repulsa\n",
      "zrobił zadań: inf\n",
      "\n",
      "\n",
      "zapłacił: tak\n",
      "Członek: Fit Ranger\n",
      "zrobił zadań: 3\n",
      "\n",
      "\n",
      "zapłacił: tak\n",
      "Członek: Fit Ranger\n",
      "zrobił zadań: 4\n"
     ]
    }
   ],
   "source": [
    "class DataRangers:\n",
    "    \n",
    "    def __init__(self, pseudonim, zaplacil, n_zadan, nazwa_kola):\n",
    "        self.pseudonim = pseudonim\n",
    "        self.paid = zaplacil\n",
    "        self.exercises = n_zadan\n",
    "        self.group=nazwa_kola\n",
    "    \n",
    "    def paid_contribution(self):\n",
    "        if self.paid==True:\n",
    "            print(\"zapłacił: tak\")\n",
    "        else:\n",
    "            print(\"zapłacił: nie\")\n",
    "\n",
    "    def solved_problem(self):\n",
    "        self.exercises=self.exercises+1\n",
    "    \n",
    "    def __str__(self):\n",
    "        str(self.paid_contribution()) #nie umiem zrobic w dobrej kolejnosci :c\n",
    "        return 'Członek: ' + self.pseudonim + '\\n' + 'zrobił zadań: ' + str(self.exercises)\n",
    "    \n",
    "#   def __str__(self):     #można tak, ale wtedy wyswietla sie 'true', a nie 'tak'\n",
    "#       return 'Członek: ' + self.pseudonim + '\\n' + 'zrobił zadań: ' + str(self.exercises) + 'zapłacił' + self.paid\n",
    "    \n",
    "czlonek1 = DataRangers(\"rita repulsa\", zaplacil=False, n_zadan=float('inf'), nazwa_kola=\"KNMF\")\n",
    "print(czlonek1)\n",
    "print('\\n')\n",
    "czlonek2 = DataRangers(\"Fit Ranger\", zaplacil=True, n_zadan=3, nazwa_kola=\"KNMF\")\n",
    "print(czlonek2)\n",
    "print('\\n')\n",
    "czlonek2.solved_problem()\n",
    "print(czlonek2)"
   ]
  },
  {
   "cell_type": "markdown",
   "metadata": {},
   "source": [
    "#### Literatura\n",
    "Polecam przeczytać stronę dokumentacji na temat klas, przynajmniej do rozdziałul 9.4 włącznie (można całość - nie zaszkodzi :), https://docs.python.org/3/tutorial/classes.html\n",
    "Wiele rzeczy będzie tam pewnie niezrozumiałych, ale myślę że warto, aby pozanać trochę słownictwa i uzyskać trochę bardziej techniczny opis. Nie trzeba się jakoś szczególnie w to zagłębiać, bo temat jest skomplikowany, chodzi tylko o ogólny pogląd ;)\n",
    "\n",
    "Wszystko inne co znajdziecie w google :)"
   ]
  }
 ],
 "metadata": {
  "kernelspec": {
   "display_name": "Python 3",
   "language": "python",
   "name": "python3"
  },
  "language_info": {
   "codemirror_mode": {
    "name": "ipython",
    "version": 3
   },
   "file_extension": ".py",
   "mimetype": "text/x-python",
   "name": "python",
   "nbconvert_exporter": "python",
   "pygments_lexer": "ipython3",
   "version": "3.7.0"
  }
 },
 "nbformat": 4,
 "nbformat_minor": 2
}
