{
 "cells": [
  {
   "cell_type": "markdown",
   "metadata": {},
   "source": [
    "# Zadanie 6"
   ]
  },
  {
   "cell_type": "markdown",
   "metadata": {},
   "source": [
    "Napisać klasę, która będzie rozwiązywała bardzo prosty problem regresji. Jej interfejs ma być podobny do funkcji z pakietów typu `sklearn`, tj.:"
   ]
  },
  {
   "cell_type": "code",
   "execution_count": null,
   "metadata": {},
   "outputs": [],
   "source": [
    "model = MyRegression()\n",
    "\n",
    "model.fit(X, y)\n",
    "print(model.coefficients)\n",
    "\n",
    "print(model.predict(X_new))"
   ]
  },
  {
   "cell_type": "markdown",
   "metadata": {},
   "source": [
    "`X` jest _listą_ wartości na podstawie, których powinna zostać policzona wartość średnia i to ona będzie zwracana dla każdego wywołania `predict()`. Zakładamy, że `X_new` również jest listą. Zadanie oczywiście można sobie rozbudować o jakieś parametry podawane przy tworzeniu modelu, np. o _bias_, kóry będzie zawsze dodawany do średniej."
   ]
  },
  {
   "cell_type": "code",
   "execution_count": 2,
   "metadata": {},
   "outputs": [
    {
     "name": "stdout",
     "output_type": "stream",
     "text": [
      "[0.2, 0.2, 0.2, 0.2, 0.2]\n",
      "[3.2, 3.2, 3.2, 3.2, 3.2, 3.2, 3.2]\n"
     ]
    }
   ],
   "source": [
    "import numpy as np\n",
    "\n",
    "class MyRegression():\n",
    "        \n",
    "    def fit(self,X,y):\n",
    "        self.fit=np.mean(y)\n",
    "\n",
    "    def predict(self,X_new):\n",
    "        return [self.fit]*len(X_new)\n",
    "    \n",
    "    def coefficients(self):\n",
    "        return [1/len(X)]*len(X)\n",
    "\n",
    "X=[5,3,7,1,5]\n",
    "y=[1,2,3,5,5]\n",
    "model = MyRegression()\n",
    "model.fit(X, y)\n",
    "print(model.coefficients())\n",
    "\n",
    "X_new = [1,2,3,5,5,8,9]\n",
    "print(model.predict(X_new))"
   ]
  }
 ],
 "metadata": {
  "kernelspec": {
   "display_name": "Python 3",
   "language": "python",
   "name": "python3"
  },
  "language_info": {
   "codemirror_mode": {
    "name": "ipython",
    "version": 3
   },
   "file_extension": ".py",
   "mimetype": "text/x-python",
   "name": "python",
   "nbconvert_exporter": "python",
   "pygments_lexer": "ipython3",
   "version": "3.7.0"
  }
 },
 "nbformat": 4,
 "nbformat_minor": 2
}
