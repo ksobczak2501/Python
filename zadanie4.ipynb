{
 "cells": [
  {
   "cell_type": "markdown",
   "metadata": {},
   "source": [
    "### Dziedziczenie "
   ]
  },
  {
   "cell_type": "markdown",
   "metadata": {},
   "source": [
    "Klasy (obiekty) mogą dziedziczyć po sobie. To oznacza, że wszystkie metody i atrybuty, które zostały zaimplementowanie w klasie bazowej, przechodzą na klasę pochodną. Przykład poniżej. W klasie B nie musimy już definiować funkcji."
   ]
  },
  {
   "cell_type": "code",
   "execution_count": 1,
   "metadata": {},
   "outputs": [
    {
     "name": "stdout",
     "output_type": "stream",
     "text": [
      "<__main__.Planet object at 0x000002B7F47C6E48>\n",
      "H2O\n"
     ]
    },
    {
     "data": {
      "text/plain": [
       "20"
      ]
     },
     "execution_count": 1,
     "metadata": {},
     "output_type": "execute_result"
    }
   ],
   "source": [
    "class Planet:\n",
    "    \n",
    "    orbit = \"Sun\"\n",
    "    \n",
    "    def __init__(self, radius, mass):\n",
    "        self.promien = radius\n",
    "        self.masa = mass\n",
    "    \n",
    "    \n",
    "class Earth(Planet):\n",
    "    \n",
    "    def __init__(self, radius, mass, temperature):\n",
    "        Planet.__init__(self, radius, mass)\n",
    "        self.temperatura = temperature\n",
    "    \n",
    "    def start_life(self):\n",
    "        print(\"H2O\")\n",
    "        \n",
    "\n",
    "mars = Planet(100, 1e90)\n",
    "print(mars)\n",
    "\n",
    "ziemia = Earth(20, 30, 30)\n",
    "    \n",
    "ziemia.start_life()\n",
    "ziemia.promien"
   ]
  },
  {
   "cell_type": "markdown",
   "metadata": {},
   "source": [
    "### Zdanie\n",
    "Napisać klasę członka Koła Naukowego (imię, nazwisko, czy zapłacił składkę), następnie stworzyć drugą klasę członka grupy DR, która będzie dziedziczyć po członku Koła Naukowego. Dodatkwo będzie posiadać metodę zliczającą zrobione zadania i pseudonim :)"
   ]
  },
  {
   "cell_type": "code",
   "execution_count": 3,
   "metadata": {},
   "outputs": [
    {
     "name": "stdout",
     "output_type": "stream",
     "text": [
      "<__main__.KNMF object at 0x00000261DDF67668>\n",
      "\n",
      "\n",
      "składka: tak\n",
      "Członek: Fit Ranger\n",
      "zrobił zadań: 4\n"
     ]
    }
   ],
   "source": [
    "class KNMF:\n",
    "    \n",
    "    def __init__(self, imie, nazwisko, zaplacil):\n",
    "        self.name = imie\n",
    "        self.surname = nazwisko\n",
    "        self.paid = zaplacil\n",
    "        \n",
    "    def paid_contribution(self):\n",
    "        if self.paid==True:\n",
    "            print(\"składka: tak\")\n",
    "        else:\n",
    "            print(\"składka: nie\")\n",
    "        \n",
    "class DataRangers(KNMF):\n",
    "    \n",
    "    def __init__(self, imie, nazwisko, zaplacil, pseudonim, n_zadan,):\n",
    "        self.name = imie\n",
    "        self.surname = nazwisko\n",
    "        self.paid = zaplacil\n",
    "        self.pseudonim = pseudonim\n",
    "        self.exercises = n_zadan\n",
    "        \n",
    "    def solved_problem(self):\n",
    "        self.exercises=self.exercises+1\n",
    "    \n",
    "    def __str__(self):\n",
    "        str(self.paid_contribution()) #nadal w złej kolejności\n",
    "        return 'Członek: ' + self.pseudonim + '\\n' + 'zrobił zadań: ' + str(self.exercises)\n",
    "    \n",
    "czlonek1 = KNMF(\"Jacek\", \"Hajto\", zaplacil=False)\n",
    "print(czlonek1)\n",
    "print('\\n')\n",
    "\n",
    "czlonek2 = DataRangers(\"Karolina\", \"Sobczak\", zaplacil=True, pseudonim=\"Fit Ranger\", n_zadan=4)\n",
    "print(czlonek2)"
   ]
  }
 ],
 "metadata": {
  "kernelspec": {
   "display_name": "Python 3",
   "language": "python",
   "name": "python3"
  },
  "language_info": {
   "codemirror_mode": {
    "name": "ipython",
    "version": 3
   },
   "file_extension": ".py",
   "mimetype": "text/x-python",
   "name": "python",
   "nbconvert_exporter": "python",
   "pygments_lexer": "ipython3",
   "version": "3.7.0"
  }
 },
 "nbformat": 4,
 "nbformat_minor": 2
}
